{
 "cells": [
  {
   "cell_type": "code",
   "execution_count": null,
   "id": "b6d6dd26",
   "metadata": {},
   "outputs": [],
   "source": [
    "%pip install mne"
   ]
  },
  {
   "cell_type": "code",
   "execution_count": null,
   "id": "62b39b3b",
   "metadata": {},
   "outputs": [],
   "source": [
    "# 1. Import packages\n",
    "import mne\n",
    "import matplotlib.pyplot as plt\n",
    "\n",
    "# 2. Load the .fif file\n",
    "file_path = \"your_data_file.fif\"  # Replace with your actual file path\n",
    "raw = mne.io.read_raw_fif(file_path, preload=True)\n",
    "\n",
    "# 3. Basic metadata\n",
    "print(\"Channels:\", raw.info['ch_names'])\n",
    "print(\"Sampling frequency (Hz):\", raw.info['sfreq'])\n",
    "print(\"Recording duration (s):\", raw.times[-1])\n",
    "print(\"Data shape:\", raw._data.shape)\n",
    "\n",
    "# 4. Plot raw data segment\n",
    "raw.plot(n_channels=10, scalings='auto', title='Raw EEG Data Preview')\n",
    "\n",
    "# 5. Check events (triggers/epochs)\n",
    "events = mne.find_events(raw, stim_channel=None, verbose=False)\n",
    "print(\"Events found:\", events.shape[0])\n",
    "if events.shape[0] > 0:\n",
    "    print(\"First 5 events:\", events[:5])\n",
    "\n",
    "# 6. Plot power spectral density\n",
    "raw.plot_psd(area_mode='range', average=True)\n",
    "\n",
    "# 7. Plot channel locations (if available)\n",
    "mne.viz.plot_sensors(raw.info, show_names=True)\n",
    "\n",
    "# 8. Show artifact summary (optional, for ECG/EOG or bad channels)\n",
    "print(\"Bad channels:\", raw.info['bads'])\n",
    "if \"EOG\" in \",\".join(raw.info['ch_names']):\n",
    "    mne.preprocessing.create_eog_epochs(raw).average().plot()\n",
    "if \"ECG\" in \",\".join(raw.info['ch_names']):\n",
    "    mne.preprocessing.create_ecg_epochs(raw).average().plot()\n"
   ]
  },
  {
   "cell_type": "code",
   "execution_count": null,
   "id": "9f724c48",
   "metadata": {},
   "outputs": [],
   "source": []
  }
 ],
 "metadata": {
  "kernelspec": {
   "display_name": "yeah",
   "language": "python",
   "name": "python3"
  },
  "language_info": {
   "codemirror_mode": {
    "name": "ipython",
    "version": 3
   },
   "file_extension": ".py",
   "mimetype": "text/x-python",
   "name": "python",
   "nbconvert_exporter": "python",
   "pygments_lexer": "ipython3",
   "version": "3.10.12"
  }
 },
 "nbformat": 4,
 "nbformat_minor": 5
}
